{
 "cells": [
  {
   "cell_type": "code",
   "execution_count": 60,
   "metadata": {},
   "outputs": [],
   "source": [
    "import requests as reqs\n",
    "import json\n",
    "import pandas as pd"
   ]
  },
  {
   "cell_type": "code",
   "execution_count": 206,
   "metadata": {},
   "outputs": [],
   "source": [
    "year = 2017\n",
    "region = \"VelikiiNovgorod\""
   ]
  },
  {
   "cell_type": "code",
   "execution_count": 216,
   "metadata": {},
   "outputs": [],
   "source": [
    "data = {\n",
    "    \"date\": [f\"MONTHS:{m}.{year}\" for m in range(1, 13)],\n",
    "    \"ParReg\": '49',\n",
    "    'order': {\n",
    "        \"type\" :1, \"fieldName\": 'dat'\n",
    "    },\n",
    "    \"reg\": '49401',\n",
    "    'ind': '1',\n",
    "    'st': '1',\n",
    "    'en': '405'\n",
    "}"
   ]
  },
  {
   "cell_type": "code",
   "execution_count": 217,
   "metadata": {},
   "outputs": [],
   "source": [
    "card_json = {\"data\": data}\n",
    "card_json['data'] = json.dumps(data, separators=(',', ':')).encode('utf8').decode(\"unicode-escape\")"
   ]
  },
  {
   "cell_type": "code",
   "execution_count": 218,
   "metadata": {},
   "outputs": [],
   "source": [
    "response = reqs.post(\"http://stat.gibdd.ru/map/getDTPCardData\", json=card_json)"
   ]
  },
  {
   "cell_type": "code",
   "execution_count": 219,
   "metadata": {},
   "outputs": [
    {
     "data": {
      "text/plain": [
       "<Response [200]>"
      ]
     },
     "execution_count": 219,
     "metadata": {},
     "output_type": "execute_result"
    }
   ],
   "source": [
    "response"
   ]
  },
  {
   "cell_type": "code",
   "execution_count": 214,
   "metadata": {},
   "outputs": [],
   "source": [
    "response_vnovgorod = response.json()['data']"
   ]
  },
  {
   "cell_type": "code",
   "execution_count": 201,
   "metadata": {},
   "outputs": [],
   "source": [
    "json_nov = json.loads(response_vnovgorod)"
   ]
  },
  {
   "cell_type": "code",
   "execution_count": 202,
   "metadata": {},
   "outputs": [],
   "source": [
    "region = json_nov['RegName']\n",
    "cards = json_nov['tab']"
   ]
  },
  {
   "cell_type": "code",
   "execution_count": 203,
   "metadata": {},
   "outputs": [],
   "source": [
    "PROCESSED_CARDS = []\n",
    "for card in cards:\n",
    "    processed_card = {}\n",
    "    info = card.pop(\"infoDtp\") if \"infoDtp\" in card.keys() else {}\n",
    "    ts_info = info.pop(\"ts_info\") if info else {}\n",
    "    uchInfo = info.pop(\"uchInfo\") if info else []\n",
    "    processed_card.update(**card, **info, )\n",
    "    PROCESSED_CARDS.append(processed_card)"
   ]
  },
  {
   "cell_type": "code",
   "execution_count": 204,
   "metadata": {},
   "outputs": [],
   "source": [
    "df = pd.DataFrame.from_dict(PROCESSED_CARDS)\n",
    "df = df.rename(columns={\n",
    "    \"KartId\": \"id\",\n",
    "    \"rowNum\": \"row\",\n",
    "    \"DTP_V\": \"crash_type\",\n",
    "    \"POG\": \"deceased\",\n",
    "    \"RAN\": \"wounded\",\n",
    "    \"K_TS\": \"vehicles\",\n",
    "    \"K_UCH\": \"participants\",\n",
    "    \"ndu\": \"road_deficiency\",\n",
    "    \"s_pog\": \"weather\",\n",
    "    \"osv\": \"light_conditions\",\n",
    "    \"s_pch\": \"road_conditions\",\n",
    "    \"n_p\": \"settlement\",\n",
    "    \"dor\": \"main_road\",\n",
    "    \"dor_k\": \"road_category\",\n",
    "    \"dor_z\": \"road_significance\",\n",
    "    \"k_ul\": \"street_category\",\n",
    "    \"sdor\": \"onsite_crash_road_objects\",\n",
    "    \"COORD_W\": \"latitude\", \n",
    "    \"COORD_L\": \"longitude\",\n",
    "})"
   ]
  },
  {
   "cell_type": "code",
   "execution_count": 205,
   "metadata": {},
   "outputs": [],
   "source": [
    "df.to_excel(f\"{region}{year}.xlsx\")"
   ]
  }
 ],
 "metadata": {
  "kernelspec": {
   "display_name": "Python 3",
   "language": "python",
   "name": "python3"
  },
  "language_info": {
   "codemirror_mode": {
    "name": "ipython",
    "version": 3
   },
   "file_extension": ".py",
   "mimetype": "text/x-python",
   "name": "python",
   "nbconvert_exporter": "python",
   "pygments_lexer": "ipython3",
   "version": "3.7.6"
  }
 },
 "nbformat": 4,
 "nbformat_minor": 4
}
